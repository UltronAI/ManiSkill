{
 "cells": [
  {
   "cell_type": "code",
   "execution_count": 15,
   "metadata": {},
   "outputs": [],
   "source": [
    "import argparse\n",
    "\n",
    "import gymnasium as gym\n",
    "import numpy as np\n",
    "\n",
    "from mani_skill.envs.sapien_env import BaseEnv\n",
    "from mani_skill.utils.wrappers import RecordEpisode\n",
    "from mani_skill.utils.structs.pose import Pose\n",
    "from mani_skill.utils.geometry import rotation_conversions as rot_utils"
   ]
  },
  {
   "cell_type": "code",
   "execution_count": 29,
   "metadata": {},
   "outputs": [],
   "source": [
    "# Args\n",
    "env_id = \"TestBench-v1\"\n",
    "\n",
    "num_envs = 1\n",
    "seed = 10\n",
    "quiet = False\n",
    "render_mode = \"human\"\n",
    "parallel_in_single_scene = False\n",
    "obs_mode = \"none\"\n",
    "reward_mode = None\n",
    "control_mode = \"pd_ee_target_delta_pose\"\n",
    "shader_dir = \"default\"\n",
    "sim_backend = \"auto\"\n",
    "\n",
    "pause = False"
   ]
  },
  {
   "cell_type": "code",
   "execution_count": 30,
   "metadata": {},
   "outputs": [],
   "source": [
    "np.set_printoptions(suppress=True, precision=3)\n",
    "verbose = True\n",
    "\n",
    "env: BaseEnv = gym.make(\n",
    "        env_id,\n",
    "        obs_mode=obs_mode,\n",
    "        reward_mode=reward_mode,\n",
    "        control_mode=control_mode,\n",
    "        render_mode=render_mode,\n",
    "        shader_dir=shader_dir,\n",
    "        num_envs=num_envs,\n",
    "        sim_backend=sim_backend,\n",
    "        parallel_in_single_scene=parallel_in_single_scene,\n",
    "    )"
   ]
  },
  {
   "cell_type": "code",
   "execution_count": 31,
   "metadata": {},
   "outputs": [
    {
     "name": "stdout",
     "output_type": "stream",
     "text": [
      "Observation space Dict()\n",
      "Action space Box(-1.0, 1.0, (6,), float32)\n",
      "Control mode pd_ee_target_delta_pose\n",
      "Reward mode normalized_dense\n"
     ]
    }
   ],
   "source": [
    "print(\"Observation space\", env.observation_space)\n",
    "print(\"Action space\", env.action_space)\n",
    "print(\"Control mode\", env.unwrapped.control_mode)\n",
    "print(\"Reward mode\", env.unwrapped.reward_mode)"
   ]
  },
  {
   "cell_type": "code",
   "execution_count": 32,
   "metadata": {},
   "outputs": [
    {
     "data": {
      "text/plain": [
       "[10]"
      ]
     },
     "execution_count": 32,
     "metadata": {},
     "output_type": "execute_result"
    }
   ],
   "source": [
    "obs, _ = env.reset(seed=seed)\n",
    "env.action_space.seed(seed)"
   ]
  },
  {
   "cell_type": "code",
   "execution_count": 33,
   "metadata": {},
   "outputs": [],
   "source": [
    "if render_mode is not None:\n",
    "    viewer = env.render()\n",
    "    viewer.paused = pause\n",
    "    env.render()"
   ]
  },
  {
   "cell_type": "code",
   "execution_count": 34,
   "metadata": {},
   "outputs": [
    {
     "name": "stdout",
     "output_type": "stream",
     "text": [
      "Pose(raw_pose=tensor([[-0.3423,  0.0039,  0.4254,  0.4899,  0.5024,  0.5114,  0.4960]]))\n",
      "Pose(raw_pose=tensor([[0.4577, 0.0039, 0.4254, 0.4899, 0.5024, 0.5114, 0.4960]]))\n",
      "Pose(raw_pose=tensor([[0.4577, 0.0039, 0.4254, 0.4899, 0.5024, 0.5114, 0.4960]]))\n",
      "Pose(raw_pose=tensor([[-8.0000e-01, -1.3097e-10,  7.4506e-09,  1.0000e+00,  0.0000e+00,\n",
      "          0.0000e+00,  0.0000e+00]]))\n"
     ]
    }
   ],
   "source": [
    "print(env.agent.controller.controllers['arm'].ee_pose)\n",
    "print(env.agent.controller.controllers['arm'].ee_pose_at_base)\n",
    "print(env.agent.controller.controllers['arm']._target_pose)\n",
    "\n",
    "\n",
    "start_pose = env.agent.controller.controllers['arm'].ee_pose_at_base\n",
    "BASE_pose = env.agent.robot.get_links()[0].pose\n",
    "\n",
    "print(BASE_pose)"
   ]
  },
  {
   "cell_type": "code",
   "execution_count": 22,
   "metadata": {},
   "outputs": [],
   "source": [
    "def interpolate_pose(pose1, pose2, alpha: float):\n",
    "    \"\"\"\n",
    "    Interpolates between two Pose objects given an interpolation factor alpha (0 <= alpha <= 1).\n",
    "    \n",
    "    :param pose1: The starting Pose object.\n",
    "    :param pose2: The ending Pose object.\n",
    "    :param alpha: Interpolation factor (0 = pose1, 1 = pose2).\n",
    "    :return: A new Pose object that is the interpolated result.\n",
    "    \"\"\"\n",
    "    # Linearly interpolate positions\n",
    "    interp_position = (1 - alpha) * pose1.p + alpha * pose2.p\n",
    "    \n",
    "    # Perform SLERP for quaternion interpolation\n",
    "    dot_product = torch.sum(pose1.q * pose2.q, dim=-1, keepdim=True)\n",
    "    if torch.all(dot_product < 0):\n",
    "        pose2.q = -pose2.q\n",
    "        dot_product = -dot_product\n",
    "\n",
    "    dot_product = torch.clamp(dot_product, -1.0, 1.0)\n",
    "\n",
    "    theta_0 = torch.acos(dot_product)\n",
    "    sin_theta_0 = torch.sin(theta_0)\n",
    "\n",
    "    if torch.all(sin_theta_0 > 1e-6):\n",
    "        sin_theta = torch.sin(alpha * theta_0)\n",
    "        sin_theta_1 = torch.sin((1 - alpha) * theta_0)\n",
    "        interp_quat = (sin_theta_1 / sin_theta_0) * pose1.q + (sin_theta / sin_theta_0) * pose2.q\n",
    "    else:\n",
    "        interp_quat = pose1.q\n",
    "\n",
    "    # Normalize the resulting quaternion to avoid numerical drift\n",
    "    interp_quat = torch.nn.functional.normalize(interp_quat)\n",
    "\n",
    "    # Create and return the new interpolated Pose\n",
    "    return Pose.create_from_pq(interp_position, interp_quat)\n",
    "\n",
    "\n",
    "def generate_trajectory(poses, durations, control_frequency):\n",
    "    \"\"\"\n",
    "    Generates a smooth trajectory to control the end-effector.\n",
    "    \n",
    "    :param poses: List of poses, where each pose is [x, y, z, qw, qx, qy, qz]\n",
    "    :param durations: List of durations between consecutive poses\n",
    "    :param control_frequency: Scalar frequency to determine the number of internal poses per second\n",
    "    :return: List of interpolated poses (smooth trajectory)\n",
    "    \"\"\"\n",
    "    trajectory = []\n",
    "    num_segments = len(poses) - 1\n",
    "\n",
    "    for i in range(num_segments):\n",
    "        start_pose = poses[i]\n",
    "        end_pose = poses[i + 1]\n",
    "        duration = durations[i]\n",
    "        \n",
    "        num_steps = int(duration * control_frequency)\n",
    "        for step in range(num_steps):\n",
    "            alpha = step / num_steps\n",
    "            interp_pose = interpolate_pose(start_pose, end_pose, alpha)\n",
    "            trajectory.append(interp_pose)\n",
    "    \n",
    "    # Add the last pose to ensure the trajectory ends exactly at the final pose\n",
    "    trajectory.append(poses[-1])\n",
    "    \n",
    "    return trajectory\n"
   ]
  },
  {
   "cell_type": "code",
   "execution_count": 35,
   "metadata": {},
   "outputs": [
    {
     "name": "stdout",
     "output_type": "stream",
     "text": [
      "torch.Size([1, 7])\n"
     ]
    }
   ],
   "source": [
    "import torch\n",
    "p = torch.tensor([0.3, -0.3, 0.0])\n",
    "q = rot_utils.axis_angle_to_quaternion(torch.tensor([0, 0, torch.pi/2]))\n",
    "target_pose = Pose.create_from_pq(p, q)\n",
    "print(target_pose.shape)"
   ]
  },
  {
   "cell_type": "code",
   "execution_count": 36,
   "metadata": {},
   "outputs": [],
   "source": [
    "traj = generate_trajectory([start_pose, target_pose], [2], env.agent.controller.control_freq)"
   ]
  },
  {
   "cell_type": "code",
   "execution_count": 37,
   "metadata": {},
   "outputs": [
    {
     "name": "stdout",
     "output_type": "stream",
     "text": [
      "start: tensor([[0.4577, 0.0039, 0.4254]]) tensor([[0.4899, 0.5024, 0.5114, 0.4960]])\n",
      "tensor([[0.4577, 0.0039, 0.4254]]) tensor([[0.4899, 0.5024, 0.5114, 0.4960]])\n",
      "tensor([[ 0.4538, -0.0037,  0.4147]]) tensor([[0.5000, 0.4926, 0.5013, 0.5060]])\n",
      "tensor([[ 0.4498, -0.0113,  0.4041]]) tensor([[0.5099, 0.4825, 0.4911, 0.5157]])\n",
      "tensor([[ 0.4459, -0.0189,  0.3935]]) tensor([[0.5196, 0.4722, 0.4807, 0.5253]])\n",
      "tensor([[ 0.4419, -0.0265,  0.3828]]) tensor([[0.5291, 0.4618, 0.4700, 0.5347]])\n",
      "tensor([[ 0.4380, -0.0341,  0.3722]]) tensor([[0.5384, 0.4512, 0.4592, 0.5438]])\n",
      "tensor([[ 0.4340, -0.0417,  0.3616]]) tensor([[0.5474, 0.4404, 0.4482, 0.5527]])\n",
      "tensor([[ 0.4301, -0.0493,  0.3509]]) tensor([[0.5563, 0.4294, 0.4370, 0.5614]])\n",
      "tensor([[ 0.4262, -0.0569,  0.3403]]) tensor([[0.5649, 0.4182, 0.4257, 0.5699]])\n",
      "tensor([[ 0.4222, -0.0645,  0.3296]]) tensor([[0.5733, 0.4069, 0.4142, 0.5782]])\n",
      "tensor([[ 0.4183, -0.0720,  0.3190]]) tensor([[0.5814, 0.3954, 0.4025, 0.5862]])\n",
      "tensor([[ 0.4143, -0.0796,  0.3084]]) tensor([[0.5893, 0.3838, 0.3906, 0.5940]])\n",
      "tensor([[ 0.4104, -0.0872,  0.2977]]) tensor([[0.5970, 0.3720, 0.3786, 0.6015]])\n",
      "tensor([[ 0.4065, -0.0948,  0.2871]]) tensor([[0.6045, 0.3601, 0.3665, 0.6088]])\n",
      "tensor([[ 0.4025, -0.1024,  0.2765]]) tensor([[0.6117, 0.3480, 0.3542, 0.6159]])\n",
      "tensor([[ 0.3986, -0.1100,  0.2658]]) tensor([[0.6187, 0.3357, 0.3417, 0.6227]])\n",
      "tensor([[ 0.3946, -0.1176,  0.2552]]) tensor([[0.6254, 0.3234, 0.3292, 0.6293]])\n",
      "tensor([[ 0.3907, -0.1252,  0.2446]]) tensor([[0.6318, 0.3109, 0.3164, 0.6356]])\n",
      "tensor([[ 0.3867, -0.1328,  0.2339]]) tensor([[0.6381, 0.2983, 0.3036, 0.6417]])\n",
      "tensor([[ 0.3828, -0.1404,  0.2233]]) tensor([[0.6440, 0.2856, 0.2906, 0.6475]])\n",
      "tensor([[ 0.3789, -0.1480,  0.2127]]) tensor([[0.6497, 0.2727, 0.2776, 0.6530]])\n",
      "tensor([[ 0.3749, -0.1556,  0.2020]]) tensor([[0.6552, 0.2597, 0.2644, 0.6583]])\n",
      "tensor([[ 0.3710, -0.1632,  0.1914]]) tensor([[0.6604, 0.2467, 0.2511, 0.6633]])\n",
      "tensor([[ 0.3670, -0.1708,  0.1808]]) tensor([[0.6653, 0.2335, 0.2377, 0.6681]])\n",
      "tensor([[ 0.3631, -0.1784,  0.1701]]) tensor([[0.6699, 0.2203, 0.2242, 0.6726]])\n",
      "tensor([[ 0.3591, -0.1860,  0.1595]]) tensor([[0.6743, 0.2069, 0.2106, 0.6768]])\n",
      "tensor([[ 0.3552, -0.1936,  0.1489]]) tensor([[0.6784, 0.1935, 0.1970, 0.6808]])\n",
      "tensor([[ 0.3513, -0.2012,  0.1382]]) tensor([[0.6823, 0.1800, 0.1832, 0.6845]])\n",
      "tensor([[ 0.3473, -0.2088,  0.1276]]) tensor([[0.6859, 0.1665, 0.1694, 0.6879]])\n",
      "tensor([[ 0.3434, -0.2164,  0.1170]]) tensor([[0.6892, 0.1528, 0.1555, 0.6910]])\n",
      "tensor([[ 0.3394, -0.2240,  0.1063]]) tensor([[0.6922, 0.1391, 0.1416, 0.6939]])\n",
      "tensor([[ 0.3355, -0.2316,  0.0957]]) tensor([[0.6949, 0.1254, 0.1276, 0.6965]])\n",
      "tensor([[ 0.3315, -0.2392,  0.0851]]) tensor([[0.6974, 0.1116, 0.1136, 0.6988]])\n",
      "tensor([[ 0.3276, -0.2468,  0.0744]]) tensor([[0.6996, 0.0977, 0.0995, 0.7008]])\n",
      "tensor([[ 0.3237, -0.2544,  0.0638]]) tensor([[0.7015, 0.0838, 0.0853, 0.7025]])\n",
      "tensor([[ 0.3197, -0.2620,  0.0532]]) tensor([[0.7032, 0.0699, 0.0712, 0.7040]])\n",
      "tensor([[ 0.3158, -0.2696,  0.0425]]) tensor([[0.7045, 0.0560, 0.0570, 0.7052]])\n",
      "tensor([[ 0.3118, -0.2772,  0.0319]]) tensor([[0.7056, 0.0420, 0.0427, 0.7061]])\n",
      "tensor([[ 0.3079, -0.2848,  0.0213]]) tensor([[0.7064, 0.0280, 0.0285, 0.7067]])\n",
      "tensor([[ 0.3039, -0.2924,  0.0106]]) tensor([[0.7069, 0.0140, 0.0143, 0.7071]])\n",
      "tensor([[ 0.3000, -0.3000,  0.0000]]) tensor([[0.7071, 0.0000, 0.0000, 0.7071]])\n",
      "end: tensor([[ 0.3000, -0.3000,  0.0000]]) tensor([[0.7071, 0.0000, 0.0000, 0.7071]])\n"
     ]
    }
   ],
   "source": [
    "print(\"start:\", start_pose.p, start_pose.q)\n",
    "for ttt in traj:\n",
    "    print(ttt.p, ttt.q)\n",
    "print(\"end:\", target_pose.p, target_pose.q)\n"
   ]
  },
  {
   "cell_type": "code",
   "execution_count": 38,
   "metadata": {},
   "outputs": [],
   "source": [
    "def compute_delta_pose(pose1: Pose, pose2: Pose) -> (torch.Tensor, torch.Tensor):\n",
    "    \"\"\"\n",
    "    Computes the delta position and delta rotation (in Euler angles) between two poses.\n",
    "    \n",
    "    :param pose1: The initial Pose object.\n",
    "    :param pose2: The final Pose object.\n",
    "    :return: A tuple containing delta position (torch.Tensor) and delta rotation (in Euler angles, torch.Tensor).\n",
    "    \"\"\"\n",
    "    # Delta Position\n",
    "    delta_position = pose2.p - pose1.p\n",
    "    \n",
    "    # Compute relative rotation (delta rotation)\n",
    "    quat1 = pose1.q\n",
    "    quat2 = pose2.q\n",
    "    \n",
    "    # Calculate the relative quaternion (pose1 to pose2)\n",
    "    relative_quat = quaternion_multiply(quat2, quaternion_conjugate(quat1))\n",
    "    \n",
    "    # Convert the relative quaternion to Euler angles\n",
    "    relative_rotation = rot_utils.quaternion_to_axis_angle(relative_quat)\n",
    "    delta_rotation = torch.tensor(relative_rotation, device=pose1.device)\n",
    "    \n",
    "    return delta_position, delta_rotation\n",
    "\n",
    "def quaternion_conjugate(quat):\n",
    "    \"\"\"\n",
    "    Computes the conjugate of a quaternion.\n",
    "    \n",
    "    :param quat: The quaternion tensor [w, x, y, z].\n",
    "    :return: The conjugated quaternion tensor.\n",
    "    \"\"\"\n",
    "    conjugate = quat.clone()\n",
    "    conjugate[..., 1:] *= -1  # Negate the vector part\n",
    "    return conjugate\n",
    "\n",
    "def quaternion_multiply(quat1, quat2):\n",
    "    \"\"\"\n",
    "    Multiplies two quaternions.\n",
    "    \n",
    "    :param quat1: First quaternion tensor [w, x, y, z].\n",
    "    :param quat2: Second quaternion tensor [w, x, y, z].\n",
    "    :return: Resulting quaternion after multiplication.\n",
    "    \"\"\"\n",
    "    w1, x1, y1, z1 = quat1[..., 0], quat1[..., 1], quat1[..., 2], quat1[..., 3]\n",
    "    w2, x2, y2, z2 = quat2[..., 0], quat2[..., 1], quat2[..., 2], quat2[..., 3]\n",
    "    \n",
    "    w = w1*w2 - x1*x2 - y1*y2 - z1*z2\n",
    "    x = w1*x2 + x1*w2 + y1*z2 - z1*y2\n",
    "    y = w1*y2 + y1*w2 + z1*x2 - x1*z2\n",
    "    z = w1*z2 + z1*w2 + x1*y2 - y1*x2\n",
    "    \n",
    "    return torch.stack((w, x, y, z), dim=-1)\n",
    "\n",
    "\n"
   ]
  },
  {
   "cell_type": "code",
   "execution_count": 39,
   "metadata": {},
   "outputs": [
    {
     "name": "stdout",
     "output_type": "stream",
     "text": [
      "(tensor([[-0.0039, -0.0076, -0.0106]]), tensor([[ 0.0004, -0.0400, -0.0002]]))\n",
      "(tensor([[-0.0039, -0.0076, -0.0106]]), tensor([[ 0.0004, -0.0400, -0.0002]]))\n",
      "(tensor([[-0.0039, -0.0076, -0.0106]]), tensor([[ 0.0004, -0.0400, -0.0002]]))\n",
      "(tensor([[-0.0039, -0.0076, -0.0106]]), tensor([[ 0.0004, -0.0400, -0.0002]]))\n",
      "(tensor([[-0.0039, -0.0076, -0.0106]]), tensor([[ 0.0004, -0.0400, -0.0002]]))\n",
      "(tensor([[-0.0039, -0.0076, -0.0106]]), tensor([[ 0.0004, -0.0400, -0.0002]]))\n",
      "(tensor([[-0.0039, -0.0076, -0.0106]]), tensor([[ 0.0004, -0.0400, -0.0002]]))\n",
      "(tensor([[-0.0039, -0.0076, -0.0106]]), tensor([[ 0.0004, -0.0400, -0.0002]]))\n",
      "(tensor([[-0.0039, -0.0076, -0.0106]]), tensor([[ 0.0004, -0.0400, -0.0002]]))\n",
      "(tensor([[-0.0039, -0.0076, -0.0106]]), tensor([[ 0.0004, -0.0400, -0.0002]]))\n",
      "(tensor([[-0.0039, -0.0076, -0.0106]]), tensor([[ 0.0004, -0.0400, -0.0002]]))\n",
      "(tensor([[-0.0039, -0.0076, -0.0106]]), tensor([[ 0.0004, -0.0400, -0.0002]]))\n",
      "(tensor([[-0.0039, -0.0076, -0.0106]]), tensor([[ 0.0004, -0.0400, -0.0002]]))\n",
      "(tensor([[-0.0039, -0.0076, -0.0106]]), tensor([[ 0.0004, -0.0400, -0.0002]]))\n",
      "(tensor([[-0.0039, -0.0076, -0.0106]]), tensor([[ 0.0004, -0.0400, -0.0002]]))\n",
      "(tensor([[-0.0039, -0.0076, -0.0106]]), tensor([[ 0.0004, -0.0400, -0.0002]]))\n",
      "(tensor([[-0.0039, -0.0076, -0.0106]]), tensor([[ 0.0004, -0.0400, -0.0002]]))\n",
      "(tensor([[-0.0039, -0.0076, -0.0106]]), tensor([[ 0.0004, -0.0400, -0.0002]]))\n",
      "(tensor([[-0.0039, -0.0076, -0.0106]]), tensor([[ 0.0004, -0.0400, -0.0002]]))\n",
      "(tensor([[-0.0039, -0.0076, -0.0106]]), tensor([[ 0.0004, -0.0400, -0.0002]]))\n",
      "(tensor([[-0.0039, -0.0076, -0.0106]]), tensor([[ 0.0004, -0.0400, -0.0002]]))\n",
      "(tensor([[-0.0039, -0.0076, -0.0106]]), tensor([[ 0.0004, -0.0400, -0.0002]]))\n",
      "(tensor([[-0.0039, -0.0076, -0.0106]]), tensor([[ 0.0004, -0.0400, -0.0002]]))\n",
      "(tensor([[-0.0039, -0.0076, -0.0106]]), tensor([[ 0.0004, -0.0400, -0.0002]]))\n",
      "(tensor([[-0.0039, -0.0076, -0.0106]]), tensor([[ 0.0004, -0.0400, -0.0002]]))\n",
      "(tensor([[-0.0039, -0.0076, -0.0106]]), tensor([[ 0.0004, -0.0400, -0.0002]]))\n",
      "(tensor([[-0.0039, -0.0076, -0.0106]]), tensor([[ 0.0004, -0.0400, -0.0002]]))\n",
      "(tensor([[-0.0039, -0.0076, -0.0106]]), tensor([[ 0.0004, -0.0400, -0.0002]]))\n",
      "(tensor([[-0.0039, -0.0076, -0.0106]]), tensor([[ 0.0004, -0.0400, -0.0002]]))\n",
      "(tensor([[-0.0039, -0.0076, -0.0106]]), tensor([[ 0.0004, -0.0400, -0.0002]]))\n",
      "(tensor([[-0.0039, -0.0076, -0.0106]]), tensor([[ 0.0004, -0.0400, -0.0002]]))\n",
      "(tensor([[-0.0039, -0.0076, -0.0106]]), tensor([[ 0.0004, -0.0400, -0.0002]]))\n",
      "(tensor([[-0.0039, -0.0076, -0.0106]]), tensor([[ 0.0004, -0.0400, -0.0002]]))\n",
      "(tensor([[-0.0039, -0.0076, -0.0106]]), tensor([[ 0.0004, -0.0400, -0.0002]]))\n",
      "(tensor([[-0.0039, -0.0076, -0.0106]]), tensor([[ 0.0004, -0.0400, -0.0002]]))\n",
      "(tensor([[-0.0039, -0.0076, -0.0106]]), tensor([[ 0.0004, -0.0400, -0.0002]]))\n",
      "(tensor([[-0.0039, -0.0076, -0.0106]]), tensor([[ 0.0004, -0.0400, -0.0002]]))\n",
      "(tensor([[-0.0039, -0.0076, -0.0106]]), tensor([[ 0.0004, -0.0400, -0.0002]]))\n",
      "(tensor([[-0.0039, -0.0076, -0.0106]]), tensor([[ 0.0004, -0.0400, -0.0002]]))\n",
      "(tensor([[-0.0039, -0.0076, -0.0106]]), tensor([[ 0.0004, -0.0400, -0.0002]]))\n"
     ]
    },
    {
     "name": "stderr",
     "output_type": "stream",
     "text": [
      "/tmp/ipykernel_16582/1605142938.py:21: UserWarning: To copy construct from a tensor, it is recommended to use sourceTensor.clone().detach() or sourceTensor.clone().detach().requires_grad_(True), rather than torch.tensor(sourceTensor).\n",
      "  delta_rotation = torch.tensor(relative_rotation, device=pose1.device)\n"
     ]
    }
   ],
   "source": [
    "actions = []\n",
    "for i in range(len(traj)-1):\n",
    "    delta_pose = compute_delta_pose(traj[i], traj[i+1])\n",
    "    print(delta_pose)"
   ]
  },
  {
   "cell_type": "code",
   "execution_count": 40,
   "metadata": {},
   "outputs": [
    {
     "name": "stderr",
     "output_type": "stream",
     "text": [
      "/tmp/ipykernel_16582/1605142938.py:21: UserWarning: To copy construct from a tensor, it is recommended to use sourceTensor.clone().detach() or sourceTensor.clone().detach().requires_grad_(True), rather than torch.tensor(sourceTensor).\n",
      "  delta_rotation = torch.tensor(relative_rotation, device=pose1.device)\n"
     ]
    },
    {
     "name": "stdout",
     "output_type": "stream",
     "text": [
      "Expect pose: tensor([[ 0.4538, -0.0037,  0.4147]]) tensor([[0.5000, 0.4926, 0.5013, 0.5060]])\n",
      "Actual pose: tensor([[0.4576, 0.0037, 0.4250]]) tensor([[0.4895, 0.5028, 0.5118, 0.4957]])\n",
      "Expect pose: tensor([[ 0.4498, -0.0113,  0.4041]]) tensor([[0.5099, 0.4825, 0.4911, 0.5157]])\n",
      "Actual pose: tensor([[0.4573, 0.0032, 0.4243]]) tensor([[0.4889, 0.5034, 0.5124, 0.4950]])\n",
      "Expect pose: tensor([[ 0.4459, -0.0189,  0.3935]]) tensor([[0.5196, 0.4722, 0.4807, 0.5253]])\n",
      "Actual pose: tensor([[0.4570, 0.0026, 0.4235]]) tensor([[0.4881, 0.5041, 0.5132, 0.4942]])\n",
      "Expect pose: tensor([[ 0.4419, -0.0265,  0.3828]]) tensor([[0.5291, 0.4618, 0.4700, 0.5347]])\n",
      "Actual pose: tensor([[0.4567, 0.0020, 0.4226]]) tensor([[0.4872, 0.5050, 0.5140, 0.4934]])\n",
      "Expect pose: tensor([[ 0.4380, -0.0341,  0.3722]]) tensor([[0.5384, 0.4512, 0.4592, 0.5438]])\n",
      "Actual pose: tensor([[0.4563, 0.0012, 0.4216]]) tensor([[0.4863, 0.5059, 0.5149, 0.4924]])\n",
      "Expect pose: tensor([[ 0.4340, -0.0417,  0.3616]]) tensor([[0.5474, 0.4404, 0.4482, 0.5527]])\n",
      "Actual pose: tensor([[0.4559, 0.0005, 0.4206]]) tensor([[0.4853, 0.5068, 0.5158, 0.4914]])\n",
      "Expect pose: tensor([[ 0.4301, -0.0493,  0.3509]]) tensor([[0.5563, 0.4294, 0.4370, 0.5614]])\n",
      "Actual pose: tensor([[ 4.5555e-01, -2.3844e-04,  4.1952e-01]]) tensor([[0.4843, 0.5077, 0.5168, 0.4904]])\n",
      "Expect pose: tensor([[ 0.4262, -0.0569,  0.3403]]) tensor([[0.5649, 0.4182, 0.4257, 0.5699]])\n",
      "Actual pose: tensor([[ 0.4552, -0.0010,  0.4185]]) tensor([[0.4833, 0.5087, 0.5178, 0.4894]])\n",
      "Expect pose: tensor([[ 0.4222, -0.0645,  0.3296]]) tensor([[0.5733, 0.4069, 0.4142, 0.5782]])\n",
      "Actual pose: tensor([[ 0.4548, -0.0017,  0.4174]]) tensor([[0.4823, 0.5096, 0.5187, 0.4884]])\n",
      "Expect pose: tensor([[ 0.4183, -0.0720,  0.3190]]) tensor([[0.5814, 0.3954, 0.4025, 0.5862]])\n",
      "Actual pose: tensor([[ 0.4544, -0.0025,  0.4164]]) tensor([[0.4813, 0.5106, 0.5197, 0.4874]])\n",
      "Expect pose: tensor([[ 0.4143, -0.0796,  0.3084]]) tensor([[0.5893, 0.3838, 0.3906, 0.5940]])\n",
      "Actual pose: tensor([[ 0.4540, -0.0033,  0.4153]]) tensor([[0.4803, 0.5116, 0.5207, 0.4864]])\n",
      "Expect pose: tensor([[ 0.4104, -0.0872,  0.2977]]) tensor([[0.5970, 0.3720, 0.3786, 0.6015]])\n",
      "Actual pose: tensor([[ 0.4536, -0.0040,  0.4142]]) tensor([[0.4792, 0.5125, 0.5216, 0.4854]])\n",
      "Expect pose: tensor([[ 0.4065, -0.0948,  0.2871]]) tensor([[0.6045, 0.3601, 0.3665, 0.6088]])\n",
      "Actual pose: tensor([[ 0.4532, -0.0048,  0.4132]]) tensor([[0.4782, 0.5135, 0.5226, 0.4843]])\n",
      "Expect pose: tensor([[ 0.4025, -0.1024,  0.2765]]) tensor([[0.6117, 0.3480, 0.3542, 0.6159]])\n",
      "Actual pose: tensor([[ 0.4528, -0.0055,  0.4121]]) tensor([[0.4771, 0.5144, 0.5236, 0.4833]])\n",
      "Expect pose: tensor([[ 0.3986, -0.1100,  0.2658]]) tensor([[0.6187, 0.3357, 0.3417, 0.6227]])\n",
      "Actual pose: tensor([[ 0.4524, -0.0063,  0.4111]]) tensor([[0.4761, 0.5154, 0.5245, 0.4823]])\n",
      "Expect pose: tensor([[ 0.3946, -0.1176,  0.2552]]) tensor([[0.6254, 0.3234, 0.3292, 0.6293]])\n",
      "Actual pose: tensor([[ 0.4520, -0.0071,  0.4100]]) tensor([[0.4750, 0.5163, 0.5255, 0.4812]])\n",
      "Expect pose: tensor([[ 0.3907, -0.1252,  0.2446]]) tensor([[0.6318, 0.3109, 0.3164, 0.6356]])\n",
      "Actual pose: tensor([[ 0.4516, -0.0078,  0.4089]]) tensor([[0.4740, 0.5173, 0.5265, 0.4802]])\n",
      "Expect pose: tensor([[ 0.3867, -0.1328,  0.2339]]) tensor([[0.6381, 0.2983, 0.3036, 0.6417]])\n",
      "Actual pose: tensor([[ 0.4512, -0.0086,  0.4079]]) tensor([[0.4730, 0.5182, 0.5274, 0.4792]])\n",
      "Expect pose: tensor([[ 0.3828, -0.1404,  0.2233]]) tensor([[0.6440, 0.2856, 0.2906, 0.6475]])\n",
      "Actual pose: tensor([[ 0.4508, -0.0093,  0.4068]]) tensor([[0.4719, 0.5191, 0.5284, 0.4781]])\n",
      "Expect pose: tensor([[ 0.3789, -0.1480,  0.2127]]) tensor([[0.6497, 0.2727, 0.2776, 0.6530]])\n",
      "Actual pose: tensor([[ 0.4504, -0.0101,  0.4057]]) tensor([[0.4708, 0.5201, 0.5293, 0.4771]])\n",
      "Expect pose: tensor([[ 0.3749, -0.1556,  0.2020]]) tensor([[0.6552, 0.2597, 0.2644, 0.6583]])\n",
      "Actual pose: tensor([[ 0.4501, -0.0109,  0.4047]]) tensor([[0.4698, 0.5210, 0.5303, 0.4760]])\n",
      "Expect pose: tensor([[ 0.3710, -0.1632,  0.1914]]) tensor([[0.6604, 0.2467, 0.2511, 0.6633]])\n",
      "Actual pose: tensor([[ 0.4497, -0.0116,  0.4036]]) tensor([[0.4687, 0.5220, 0.5313, 0.4750]])\n",
      "Expect pose: tensor([[ 0.3670, -0.1708,  0.1808]]) tensor([[0.6653, 0.2335, 0.2377, 0.6681]])\n",
      "Actual pose: tensor([[ 0.4493, -0.0124,  0.4026]]) tensor([[0.4677, 0.5229, 0.5322, 0.4739]])\n",
      "Expect pose: tensor([[ 0.3631, -0.1784,  0.1701]]) tensor([[0.6699, 0.2203, 0.2242, 0.6726]])\n",
      "Actual pose: tensor([[ 0.4489, -0.0131,  0.4015]]) tensor([[0.4666, 0.5238, 0.5332, 0.4729]])\n",
      "Expect pose: tensor([[ 0.3591, -0.1860,  0.1595]]) tensor([[0.6743, 0.2069, 0.2106, 0.6768]])\n",
      "Actual pose: tensor([[ 0.4485, -0.0139,  0.4004]]) tensor([[0.4656, 0.5248, 0.5341, 0.4718]])\n",
      "Expect pose: tensor([[ 0.3552, -0.1936,  0.1489]]) tensor([[0.6784, 0.1935, 0.1970, 0.6808]])\n",
      "Actual pose: tensor([[ 0.4481, -0.0147,  0.3994]]) tensor([[0.4645, 0.5257, 0.5350, 0.4708]])\n",
      "Expect pose: tensor([[ 0.3513, -0.2012,  0.1382]]) tensor([[0.6823, 0.1800, 0.1832, 0.6845]])\n",
      "Actual pose: tensor([[ 0.4477, -0.0154,  0.3983]]) tensor([[0.4634, 0.5266, 0.5360, 0.4697]])\n",
      "Expect pose: tensor([[ 0.3473, -0.2088,  0.1276]]) tensor([[0.6859, 0.1665, 0.1694, 0.6879]])\n",
      "Actual pose: tensor([[ 0.4473, -0.0162,  0.3972]]) tensor([[0.4624, 0.5275, 0.5369, 0.4687]])\n",
      "Expect pose: tensor([[ 0.3434, -0.2164,  0.1170]]) tensor([[0.6892, 0.1528, 0.1555, 0.6910]])\n",
      "Actual pose: tensor([[ 0.4469, -0.0169,  0.3962]]) tensor([[0.4613, 0.5285, 0.5379, 0.4676]])\n",
      "Expect pose: tensor([[ 0.3394, -0.2240,  0.1063]]) tensor([[0.6922, 0.1391, 0.1416, 0.6939]])\n",
      "Actual pose: tensor([[ 0.4465, -0.0177,  0.3951]]) tensor([[0.4602, 0.5294, 0.5388, 0.4666]])\n",
      "Expect pose: tensor([[ 0.3355, -0.2316,  0.0957]]) tensor([[0.6949, 0.1254, 0.1276, 0.6965]])\n",
      "Actual pose: tensor([[ 0.4461, -0.0185,  0.3940]]) tensor([[0.4591, 0.5303, 0.5397, 0.4655]])\n",
      "Expect pose: tensor([[ 0.3315, -0.2392,  0.0851]]) tensor([[0.6974, 0.1116, 0.1136, 0.6988]])\n",
      "Actual pose: tensor([[ 0.4457, -0.0192,  0.3930]]) tensor([[0.4581, 0.5312, 0.5407, 0.4644]])\n",
      "Expect pose: tensor([[ 0.3276, -0.2468,  0.0744]]) tensor([[0.6996, 0.0977, 0.0995, 0.7008]])\n",
      "Actual pose: tensor([[ 0.4453, -0.0200,  0.3919]]) tensor([[0.4570, 0.5321, 0.5416, 0.4634]])\n",
      "Expect pose: tensor([[ 0.3237, -0.2544,  0.0638]]) tensor([[0.7015, 0.0838, 0.0853, 0.7025]])\n",
      "Actual pose: tensor([[ 0.4449, -0.0207,  0.3909]]) tensor([[0.4559, 0.5330, 0.5425, 0.4623]])\n",
      "Expect pose: tensor([[ 0.3197, -0.2620,  0.0532]]) tensor([[0.7032, 0.0699, 0.0712, 0.7040]])\n",
      "Actual pose: tensor([[ 0.4445, -0.0215,  0.3898]]) tensor([[0.4548, 0.5339, 0.5434, 0.4612]])\n",
      "Expect pose: tensor([[ 0.3158, -0.2696,  0.0425]]) tensor([[0.7045, 0.0560, 0.0570, 0.7052]])\n",
      "Actual pose: tensor([[ 0.4441, -0.0223,  0.3887]]) tensor([[0.4537, 0.5348, 0.5444, 0.4601]])\n",
      "Expect pose: tensor([[ 0.3118, -0.2772,  0.0319]]) tensor([[0.7056, 0.0420, 0.0427, 0.7061]])\n",
      "Actual pose: tensor([[ 0.4437, -0.0230,  0.3877]]) tensor([[0.4527, 0.5357, 0.5453, 0.4591]])\n",
      "Expect pose: tensor([[ 0.3079, -0.2848,  0.0213]]) tensor([[0.7064, 0.0280, 0.0285, 0.7067]])\n",
      "Actual pose: tensor([[ 0.4433, -0.0238,  0.3866]]) tensor([[0.4516, 0.5366, 0.5462, 0.4580]])\n",
      "Expect pose: tensor([[ 0.3039, -0.2924,  0.0106]]) tensor([[0.7069, 0.0140, 0.0143, 0.7071]])\n",
      "Actual pose: tensor([[ 0.4430, -0.0245,  0.3855]]) tensor([[0.4505, 0.5375, 0.5471, 0.4569]])\n",
      "Expect pose: tensor([[ 0.3000, -0.3000,  0.0000]]) tensor([[0.7071, 0.0000, 0.0000, 0.7071]])\n",
      "Actual pose: tensor([[ 0.4426, -0.0253,  0.3845]]) tensor([[0.4494, 0.5384, 0.5480, 0.4558]])\n"
     ]
    },
    {
     "ename": "",
     "evalue": "",
     "output_type": "error",
     "traceback": [
      "\u001b[1;31mThe Kernel crashed while executing code in the current cell or a previous cell. \n",
      "\u001b[1;31mPlease review the code in the cell(s) to identify a possible cause of the failure. \n",
      "\u001b[1;31mClick <a href='https://aka.ms/vscodeJupyterKernelCrash'>here</a> for more info. \n",
      "\u001b[1;31mView Jupyter <a href='command:jupyter.viewOutput'>log</a> for further details."
     ]
    }
   ],
   "source": [
    "for i in range(len(traj)-1):\n",
    "    delta_pose = compute_delta_pose(traj[i], traj[i+1])\n",
    "    action = torch.cat([delta_pose[0], delta_pose[1]], dim=1)\n",
    "    \n",
    "    _ = env.step(action)\n",
    "    \n",
    "    print(\"Expect pose:\", traj[i+1].p, traj[i+1].q)\n",
    "    print(\"Actual pose:\", env.agent.controller.controllers['arm'].ee_pose_at_base.p, env.agent.controller.controllers['arm'].ee_pose_at_base.q)\n",
    "    \n",
    "    env.render()"
   ]
  }
 ],
 "metadata": {
  "kernelspec": {
   "display_name": "arm",
   "language": "python",
   "name": "python3"
  },
  "language_info": {
   "codemirror_mode": {
    "name": "ipython",
    "version": 3
   },
   "file_extension": ".py",
   "mimetype": "text/x-python",
   "name": "python",
   "nbconvert_exporter": "python",
   "pygments_lexer": "ipython3",
   "version": "3.10.14"
  }
 },
 "nbformat": 4,
 "nbformat_minor": 2
}
